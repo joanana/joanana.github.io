{
 "cells": [
  {
   "cell_type": "markdown",
   "metadata": {},
   "source": [
    "![Standard Recipe](/images/standard_recipe.png)"
   ]
  },
  {
   "cell_type": "markdown",
   "metadata": {},
   "source": [
    "# What makes a recipe interesting?\n",
    "#### Joanna Purich\n",
    "#### December 14, 2018"
   ]
  },
  {
   "cell_type": "markdown",
   "metadata": {},
   "source": [
    "## Introduction\n",
    "\n",
    "[AllRecipes](https://www.allrecipes.com/) is a website that allows users to share their recipes and discover new receipes that other users have shared. Users can indicate that they attempted the recipe, rate it and provide comments.\n",
    "\n",
    "The objective of this tutorial is to discover how ingredients contribute to the success of a recipe. Along the way, we will examine other factors such as cook time and preparation steps and evaluate their contribution to a recipe's rating. We will scrape data directly from the AllRecipes site, build a sqlite database to store the metadata for each recipe, clean the data, and draw out insights."
   ]
  },
  {
   "cell_type": "markdown",
   "metadata": {},
   "source": [
    "### Required Tools\n",
    "In order to execute this tutorial you will need a Python 3 installation. We suggest installing using [Anaconda](https://www.anaconda.com/download/).\n",
    "\n",
    "You will also need the following Python packages:\n",
    "\n",
    "* pandas\n",
    "* seaborn\n",
    "* requests\n",
    "* sqlite3\n",
    "* BeautifulSoup\n",
    "* time (should come pre-installed with Python)\n",
    "* re (should come pre-installed with Python)\n",
    "\n",
    "We will also make use of the [NYTimes Ingredient-Phrase-Tagger](https://github.com/NYTimes/ingredient-phrase-tagger) to clean the freeform ingredients section of each recipe. At the moment of writing, this project isn't fully Python3 compatible due to print statements missing parenthesis. I've submitted a pull request to correct."
   ]
  },
  {
   "cell_type": "markdown",
   "metadata": {},
   "source": [
    "## Scraping\n",
    "AllRecipes no longer provides free access to their Recipes API. Therefore, we will need to scrape data directly from their site using Requests and BeautifulSoup. We will need to crawl every recipe in the AllRecipes domain and parse the HTML to find elements that contain data of interest. A quick check of the site's robots.txt file shows us that this usage is allowable, but that we will need to limit requests to 1 per second.\n",
    "\n",
    "To start with, we will need to compile a list of URLs for each recipe that we want to capture. The homepage features an infinite scroll of recipe cards, so we can paginate through each set of cards and record the recipe URL. Manually, using binary search I discovered the \"last page\" of recipe results and recorded the page number so that I knew when to stop paging through results."
   ]
  },
  {
   "cell_type": "code",
   "execution_count": 1,
   "metadata": {},
   "outputs": [],
   "source": [
    "import requests\n",
    "import time\n",
    "import csv\n",
    "from bs4 import BeautifulSoup\n",
    "\n",
    "# f = open('allrecipe_urls.csv', 'a+')\n",
    "# out = csv.writer(f)\n",
    "\n",
    "# base_url = \"http://allrecipes.com/recipes/?sort=Title&page=\"\n",
    "\n",
    "# for page in range(1,3240):\n",
    "#     time.sleep(1)\n",
    "    \n",
    "#     url = base_url + str(page)\n",
    "#     r = requests.get(url)\n",
    "#     soup = BeautifulSoup(r.text, 'html.parser')\n",
    "#     htmlUrls = soup.find_all('article', {'class': \"fixed-recipe-card\"})\n",
    "#     processed = [[i.find('a').get('href')] for i in htmlUrls]\n",
    "\n",
    "#     out.writerows(processed)\n",
    "\n",
    "# f.close()"
   ]
  },
  {
   "cell_type": "markdown",
   "metadata": {},
   "source": [
    "As of November 27, 2018, there were 64,583 active recipes which suggests it will take approximately 18 hours to scrape each recipe. However, I found that this process took closer to 5 days due to connection loss and unforseen issues.\n",
    "\n",
    "Because the data is expensive to obtain from a time perspective, it is important that it is written to disk and preserved for later use. For this implementation, we've chosen to use a local Sqlite database due to the variable length nature of the data; recipes can have 0-n ingredients and 0-m steps. If we used a flat text file, we would have to commit to a maximum amount of ingredients/steps ahead of time, before we even visited any URLs.\n",
    "\n",
    "The AllRecipes Database will consist of four tables: recipes, directions, nutrition and ingredients; which describe the four types of data we will be harvesting. The recipes table will include metadata about the recipe such as the author, number of reviews, description and prep time. The directions table will have a row for each preparation step for each recipe. Similarly, the ingredients table will have a row for each ingredient in each recipe. Finally, the nutrition table will have a row for each recipe (that has nutrition facts listed) and will contain data such as the calorie count and fat content, per serving.\n",
    "\n",
    "We will now initialize the database and define the tables listed above. First, we will define some helper functions that will format and create the tables and functions that we will use later to insert rows into each table. In the second cell, we will call the create_db() function to build the database."
   ]
  },
  {
   "cell_type": "code",
   "execution_count": 2,
   "metadata": {},
   "outputs": [],
   "source": [
    "import sqlite3\n",
    "\n",
    "def create_conn(db):\n",
    "    try:\n",
    "        conn = sqlite3.connect(db)\n",
    "        return conn\n",
    "\n",
    "    except Exception as e:\n",
    "        print(e)\n",
    "\n",
    "    return None\n",
    "\n",
    "def create_table(conn, table_sql):\n",
    "    try:\n",
    "        cur = conn.cursor()\n",
    "        cur.execute(table_sql)\n",
    "\n",
    "    except Exception as e:\n",
    "        print(e)\n",
    "\n",
    "def create_db(db):\n",
    "    sql_recipe = \"\"\" CREATE TABLE IF NOT EXISTS recipes (\n",
    "                                    id integer PRIMARY KEY,\n",
    "                                    url text NOT NULL,\n",
    "                                    title text,\n",
    "                                    author text,\n",
    "                                    description text,\n",
    "                                    num_photos integer,\n",
    "                                    prep_time text,\n",
    "                                    cook_time text,\n",
    "                                    total_time text,\n",
    "                                    rating real,\n",
    "                                    reviews integer,\n",
    "                                    made_it integer,\n",
    "                                    servings integer,\n",
    "                                    num_steps integer,\n",
    "                                    num_ingredients integer\n",
    "                                ); \"\"\"\n",
    " \n",
    "    sql_directions = \"\"\"CREATE TABLE IF NOT EXISTS directions (\n",
    "                                    id integer PRIMARY KEY,\n",
    "                                    recipe_id integer NOT NULL,\n",
    "                                    step text NOT NULL,\n",
    "                                    step_order integer NOT NULL,\n",
    "                                    FOREIGN KEY (recipe_id) REFERENCES recipes(id)\n",
    "                                );\"\"\"\n",
    "\n",
    "    sql_nutrition = \"\"\"CREATE TABLE IF NOT EXISTS nutrition (\n",
    "                                    id integer PRIMARY KEY,\n",
    "                                    recipe_id integer NOT NULL,\n",
    "                                    calories real,\n",
    "                                    fat real,\n",
    "                                    carbs real,\n",
    "                                    protein real,\n",
    "                                    cholesterol real,\n",
    "                                    sodium real,\n",
    "                                    FOREIGN KEY (recipe_id) REFERENCES recipes(id)\n",
    "                                );\"\"\"\n",
    "\n",
    "    sql_ingredients = \"\"\"CREATE TABLE IF NOT EXISTS ingredients (\n",
    "                                    id integer PRIMARY KEY,\n",
    "                                    recipe_id integer NOT NULL,\n",
    "                                    ingredient text NOT NULL,\n",
    "                                    FOREIGN KEY (recipe_id) REFERENCES recipes(id)\n",
    "                                );\"\"\"\n",
    " \n",
    "    conn = create_conn(db)\n",
    "\n",
    "    if conn is not None:\n",
    "        create_table(conn, sql_recipe)\n",
    "        create_table(conn, sql_directions)\n",
    "        create_table(conn, sql_nutrition)\n",
    "        create_table(conn, sql_ingredients)\n",
    "    \n",
    "    conn.close()\n",
    "\n",
    "def update_recipe(cur, summary, recipe_id):\n",
    "    sql = \"\"\"UPDATE recipes\n",
    "                SET title = ?,\n",
    "                author = ?,\n",
    "                description = ?,\n",
    "                num_photos = ?,\n",
    "                prep_time = ?,\n",
    "                cook_time = ?,\n",
    "                total_time =?,\n",
    "                rating = ?,\n",
    "                reviews = ?,\n",
    "                made_it = ?,\n",
    "                servings = ?,\n",
    "                num_steps = ?,\n",
    "                num_ingredients = ?\n",
    "                WHERE id = ?\n",
    "                \"\"\"\n",
    "    values = summary + (recipe_id,)\n",
    "\n",
    "    cur.execute(sql, values)\n",
    "\n",
    "def insert_directions(cur, directions, recipe_id):\n",
    "    sql = \"\"\" INSERT INTO directions (recipe_id, step_order, step)\n",
    "                VALUES (?, ?, ?)\"\"\"\n",
    "    for i in directions:\n",
    "        values = (recipe_id,) + i\n",
    "        cur.execute(sql, values)\n",
    "\n",
    "def insert_ingredients(cur, ingredients, recipe_id):\n",
    "    sql = \"\"\" INSERT INTO ingredients (recipe_id, ingredient)\n",
    "                VALUES (?, ?)\"\"\"\n",
    "    for i in ingredients:\n",
    "        values = (recipe_id,) + i\n",
    "        cur.execute(sql, values)\n",
    "        \n",
    "def insert_nutrition(cur, nutrition, recipe_id):\n",
    "    sql = \"\"\" INSERT INTO nutrition\n",
    "                (recipe_id, calories, fat, carbs, protein,\n",
    "                cholesterol, sodium)\n",
    "                VALUES (?, ?, ?, ?, ?, ?, ?)\"\"\"\n",
    "    values = (recipe_id,) + nutrition\n",
    "    cur.execute(sql, values)"
   ]
  },
  {
   "cell_type": "markdown",
   "metadata": {},
   "source": [
    "The cell below creates the database."
   ]
  },
  {
   "cell_type": "code",
   "execution_count": 3,
   "metadata": {},
   "outputs": [],
   "source": [
    "# create_db('allrecipes.db')"
   ]
  },
  {
   "cell_type": "markdown",
   "metadata": {},
   "source": [
    "Now that we have the database setup, we will insert the URLs that we've already collected.\n",
    "\n",
    "WE SHOULD MOVE THIS UP AT SOME POINT"
   ]
  },
  {
   "cell_type": "code",
   "execution_count": 4,
   "metadata": {},
   "outputs": [],
   "source": [
    "import sqlite3\n",
    "\n",
    "# f = open('allrecipe_urls.csv', 'r')\n",
    "# reader = csv.reader(f)\n",
    "\n",
    "# conn = db_builder.create_conn('allrecipes.db')\n",
    "# sql_urls = \"\"\"INSERT INTO recipes (url) VALUES (?);\"\"\"\n",
    "\n",
    "# for url in reader:\n",
    "#     cur = conn.cursor()\n",
    "#     cur.execute(sql_urls, (url[0],))\n",
    "    \n",
    "# conn.commit()\n",
    "# conn.close()"
   ]
  },
  {
   "cell_type": "markdown",
   "metadata": {},
   "source": [
    "We have created the database and we have functions to insert data, but we still need code to process the HTML and capture the tags that we are interested in. Once again, we will utilize helper functions to modularize the code.\n",
    "\n",
    "Each function will take as input a Beautiful Soup HTML object. The function will then use the find or find_all method to locate the HTML tag of interest. Finally, each will return a tuple output. We use tuples here because they are the data structure that Sqlite expects. In some places we need to use try/except statements because the html tag is not always present. For example, in the case that an author does not include a description for the recipe, there is no description tag present in the HTML."
   ]
  },
  {
   "cell_type": "code",
   "execution_count": 5,
   "metadata": {},
   "outputs": [],
   "source": [
    "def get_ingredients(soup):\n",
    "    ingred = [i.text.strip() for i in\n",
    "              soup.find_all('li', {'class': 'checkList__line'})][0:-3]\n",
    "    return tuple((i,) for i in ingred)\n",
    "\n",
    "def get_directions(soup):\n",
    "    steps = [i.text.strip() for i in\n",
    "             soup.find_all('span', {'class': 'recipe-directions__list--item'})]\n",
    "    steps = list(filter(None, steps))\n",
    "\n",
    "    return tuple(zip(range(len(steps)), steps))\n",
    "\n",
    "def get_nutrition(soup):\n",
    "    nutrition = soup.find('div', {'class': 'nutrition-summary-facts'})\n",
    "                \n",
    "    calories = nutrition.find('span', {'itemprop': 'calories'}).text.strip(' calories;')\n",
    "    fat = nutrition.find('span', {'itemprop': 'fatContent'}).text.strip()\n",
    "    carbs = nutrition.find('span', {'itemprop': 'carbohydrateContent'}).text.strip()\n",
    "    protein = nutrition.find('span', {'itemprop': 'proteinContent'}).text.strip()\n",
    "    cholesterol = nutrition.find('span', {'itemprop': 'cholesterolContent'}).text.strip()\n",
    "    sodium = nutrition.find('span', {'itemprop': 'sodiumContent'}).text.strip()\n",
    "    \n",
    "    return (calories, fat, carbs, protein, cholesterol, sodium)\n",
    "\n",
    "def get_basics(soup):\n",
    "    title = soup.find('title').text.split(' - ')[0]\n",
    "    num_photos = soup.find('span', {'class': 'picture-count-link'}).text.strip(' photos')\n",
    "    author = soup.find('span', {'class': 'submitter__name'}).text\n",
    "    \n",
    "    summ_stats = soup.find('div', {'class': 'recipe-summary__stars'})\n",
    "    rating_long = summ_stats.find('div', {'class': 'rating-stars'}).attrs['data-ratingstars']\n",
    "    num_reviews = summ_stats.find('meta', {'itemprop': 'reviewCount'}).attrs['content']\n",
    "    \n",
    "    made_it = soup.find('span', {'class': 'made-it-count'}).find_next().text.strip('\\xa0made it')\n",
    "    servings = soup.find('meta', {'id': 'metaRecipeServings'}).attrs['content']\n",
    "    \n",
    "    try:\n",
    "        description = soup.find('div', {'class': 'submitter__description'}).text.strip()\n",
    "    except:\n",
    "        description = None\n",
    "    \n",
    "    try:\n",
    "        prep_time = soup.find('time', {'itemprop': 'prepTime'}).attrs['datetime'].strip('PT')\n",
    "    except:\n",
    "        prep_time = None\n",
    "    try:\n",
    "        cook_time = soup.find('time', {'itemprop': 'cookTime'}).attrs['datetime'].strip('PT')\n",
    "    except:\n",
    "        cook_time = None\n",
    "    try:\n",
    "        total_time = soup.find('time', {'itemprop': 'totalTime'}).attrs['datetime'].strip('PT')\n",
    "    except:\n",
    "        total_time = None\n",
    "    \n",
    "    return (title, author, description, num_photos, prep_time,\n",
    "               cook_time, total_time, rating_long, num_reviews,\n",
    "               made_it, servings)\n"
   ]
  },
  {
   "cell_type": "markdown",
   "metadata": {},
   "source": [
    "We will define a function that will execute each of the helper functions and combine their output."
   ]
  },
  {
   "cell_type": "code",
   "execution_count": 6,
   "metadata": {},
   "outputs": [],
   "source": [
    "def fetch_data(soup):\n",
    "    \n",
    "    basics = get_basics(soup)\n",
    "    directions = get_directions(soup)\n",
    "    ingredients = get_ingredients(soup)\n",
    "\n",
    "    basics_ext = basics + (len(directions), len(ingredients))\n",
    "\n",
    "    return (basics_ext, directions, ingredients)"
   ]
  },
  {
   "cell_type": "markdown",
   "metadata": {},
   "source": [
    "At this point we have code to process the BeautifulSoup and capture the page data that we're interested in. However, we still need to write code to visit each URL, call the processing functions, and then call the database functions to insert the data."
   ]
  },
  {
   "cell_type": "code",
   "execution_count": 7,
   "metadata": {},
   "outputs": [],
   "source": [
    "def url_to_soup(url):\n",
    "    r = requests.get(url)\n",
    "    return BeautifulSoup(r.text, 'html.parser')"
   ]
  },
  {
   "cell_type": "code",
   "execution_count": 8,
   "metadata": {},
   "outputs": [],
   "source": [
    "def process_html(recipe_id, conn, soup):\n",
    "    try:\n",
    "        summary, directions, ingredients = fetch_data(soup)\n",
    "        \n",
    "        cur = conn.cursor()\n",
    "        \n",
    "        update_recipe(cur, summary, recipe_id)\n",
    "        insert_directions(cur, directions, recipe_id)\n",
    "        insert_ingredients(cur, ingredients, recipe_id)\n",
    "        \n",
    "        try:\n",
    "            nutrition = get_nutrition(soup)\n",
    "            insert_nutrition(cur, nutrition, recipe_id)\n",
    "            \n",
    "        except Exception as e:\n",
    "            print('No nutrition elements: ', recipe_id)\n",
    "            print(e)\n",
    "            \n",
    "        conn.commit()\n",
    "        \n",
    "    except Exception as e:\n",
    "        conn.rollback()\n",
    "        print(e, recipe_id)"
   ]
  },
  {
   "cell_type": "markdown",
   "metadata": {},
   "source": [
    "Now we are finally ready to put it all together and crawl AllRecipes. The following code is written such that it can be paused and restarted without losing data or revisiting recipes that have already been crawled.\n",
    "\n",
    "First, we query the database to obtain the URLs of all recipes that do not have metadata and then iterate through each URL. The query returns URLs in a random order so if we do not have time to collect every recipe, we can select a random subset. For each URL we use the url_to_soup function to obtain the HTML and then process_html to locate the elements of interest and insert the data into our database. Once again, we utilize Exception handling to handle URLs that are no longer active or a faulty connection.\n"
   ]
  },
  {
   "cell_type": "code",
   "execution_count": 9,
   "metadata": {},
   "outputs": [],
   "source": [
    "missing_recipes = \"\"\"SELECT id, url FROM recipes WHERE title is null ORDER BY random()\"\"\"\n",
    "\n",
    "# conn = create_conn('allrecipes.db')\n",
    "# cur = conn.cursor()\n",
    "# cur.execute(missing_recipes)\n",
    "\n",
    "# for row in cur:\n",
    "#     recipe_id, url = row\n",
    "#     time.sleep(1)\n",
    "    \n",
    "#     try:\n",
    "#         soup = url_to_soup(url)\n",
    "#         process_html(recipe_id, conn, soup)\n",
    "        \n",
    "#     except Exception as e:\n",
    "#         print(e, row)"
   ]
  },
  {
   "cell_type": "markdown",
   "metadata": {},
   "source": [
    "When this code was last executed, we were only able to successfully scrape 64,368 recipes, missing 215. When we manually visited the URLs that we couldn't capture we noted that some resulted in 404 errors because the recipe had been deleted, but the majority were active. However, the styling of the page was very different from the successfully captured URLs. The scraper failed for these pages because the page elements of interest were relocated in the HTML. Below is an example of an outlier recipe.\n",
    "\n",
    "Instead of writing a second set of code to scrape these outlier pages, we decided to leave them out."
   ]
  },
  {
   "cell_type": "markdown",
   "metadata": {},
   "source": [
    "![Outlier Recipe](/images/outlier_recipe.png)"
   ]
  },
  {
   "cell_type": "markdown",
   "metadata": {},
   "source": [
    "## Data Processing"
   ]
  },
  {
   "cell_type": "markdown",
   "metadata": {},
   "source": [
    "From this point on, we will be using Pandas and Numpy to clean up our data and prepare it for exploratory analysis. We will read the recipes metadata into a dataframe and take a cursory glance to identify areas in need of further processing. Later, we will take a look at ingredients, directions and nutrition."
   ]
  },
  {
   "cell_type": "code",
   "execution_count": 47,
   "metadata": {},
   "outputs": [],
   "source": [
    "import pandas as pd\n",
    "\n",
    "conn = create_conn('allrecipes.db')\n",
    "# only pull metadata for recipes we successfully crawled\n",
    "sql = 'SELECT * FROM recipes WHERE title is not null;'\n",
    "recipes = pd.read_sql(sql=sql, con=conn)"
   ]
  },
  {
   "cell_type": "code",
   "execution_count": 48,
   "metadata": {},
   "outputs": [
    {
     "name": "stdout",
     "output_type": "stream",
     "text": [
      "<class 'pandas.core.frame.DataFrame'>\n",
      "RangeIndex: 64426 entries, 0 to 64425\n",
      "Data columns (total 15 columns):\n",
      "id                 64426 non-null int64\n",
      "url                64426 non-null object\n",
      "title              64426 non-null object\n",
      "author             64426 non-null object\n",
      "description        64426 non-null object\n",
      "num_photos         64426 non-null object\n",
      "prep_time          57845 non-null object\n",
      "cook_time          47689 non-null object\n",
      "total_time         58200 non-null object\n",
      "rating             64426 non-null float64\n",
      "reviews            64426 non-null int64\n",
      "made_it            64426 non-null object\n",
      "servings           64426 non-null int64\n",
      "num_steps          64426 non-null int64\n",
      "num_ingredients    64426 non-null int64\n",
      "dtypes: float64(1), int64(5), object(9)\n",
      "memory usage: 7.4+ MB\n"
     ]
    }
   ],
   "source": [
    "recipes.info()"
   ]
  },
  {
   "cell_type": "code",
   "execution_count": 49,
   "metadata": {},
   "outputs": [
    {
     "data": {
      "text/html": [
       "<div>\n",
       "<style scoped>\n",
       "    .dataframe tbody tr th:only-of-type {\n",
       "        vertical-align: middle;\n",
       "    }\n",
       "\n",
       "    .dataframe tbody tr th {\n",
       "        vertical-align: top;\n",
       "    }\n",
       "\n",
       "    .dataframe thead th {\n",
       "        text-align: right;\n",
       "    }\n",
       "</style>\n",
       "<table border=\"1\" class=\"dataframe\">\n",
       "  <thead>\n",
       "    <tr style=\"text-align: right;\">\n",
       "      <th></th>\n",
       "      <th>id</th>\n",
       "      <th>url</th>\n",
       "      <th>title</th>\n",
       "      <th>author</th>\n",
       "      <th>description</th>\n",
       "      <th>num_photos</th>\n",
       "      <th>prep_time</th>\n",
       "      <th>cook_time</th>\n",
       "      <th>total_time</th>\n",
       "      <th>rating</th>\n",
       "      <th>reviews</th>\n",
       "      <th>made_it</th>\n",
       "      <th>servings</th>\n",
       "      <th>num_steps</th>\n",
       "      <th>num_ingredients</th>\n",
       "    </tr>\n",
       "  </thead>\n",
       "  <tbody>\n",
       "    <tr>\n",
       "      <th>0</th>\n",
       "      <td>1</td>\n",
       "      <td>https://www.allrecipes.com/recipe/222980/1970s...</td>\n",
       "      <td>1970's French Strawberry Pie Recipe</td>\n",
       "      <td>buzzsau</td>\n",
       "      <td>\"My mom used to make this for our family back ...</td>\n",
       "      <td>2</td>\n",
       "      <td>15M</td>\n",
       "      <td>10M</td>\n",
       "      <td>2H25M</td>\n",
       "      <td>4.5</td>\n",
       "      <td>9</td>\n",
       "      <td>19</td>\n",
       "      <td>8</td>\n",
       "      <td>4</td>\n",
       "      <td>10</td>\n",
       "    </tr>\n",
       "  </tbody>\n",
       "</table>\n",
       "</div>"
      ],
      "text/plain": [
       "   id                                                url  \\\n",
       "0   1  https://www.allrecipes.com/recipe/222980/1970s...   \n",
       "\n",
       "                                 title   author  \\\n",
       "0  1970's French Strawberry Pie Recipe  buzzsau   \n",
       "\n",
       "                                         description num_photos prep_time  \\\n",
       "0  \"My mom used to make this for our family back ...          2       15M   \n",
       "\n",
       "  cook_time total_time  rating  reviews made_it  servings  num_steps  \\\n",
       "0       10M      2H25M     4.5        9      19         8          4   \n",
       "\n",
       "   num_ingredients  \n",
       "0               10  "
      ]
     },
     "execution_count": 49,
     "metadata": {},
     "output_type": "execute_result"
    }
   ],
   "source": [
    "recipes.head(1)"
   ]
  },
  {
   "cell_type": "markdown",
   "metadata": {},
   "source": [
    "Immediately we can see that we will need to correct the three time variables. They are currently saved as strings in an odd format, number-hours \"H\" number-minutes \"M\", and we will need to convert them to timestamp. We will use regex to identify the hours and minutes numbers then create a new column in the dataframe with the combined time."
   ]
  },
  {
   "cell_type": "code",
   "execution_count": 50,
   "metadata": {},
   "outputs": [],
   "source": [
    "def fix_time(ser):\n",
    "    temp = ser.str.extract(r\"(?:(\\d+)[D][a][y][s]*)?(?:(\\d+)[H])?(\\d+)[M]?\")\n",
    "    temp.fillna(value=0, inplace=True)\n",
    "    temp = temp.astype('int32')\n",
    "    temp['final'] = pd.to_datetime(temp[0]*60*24 + temp[1]*60 + temp[2], unit='m').dt.strftime('%d:%H:%M')\n",
    "    \n",
    "    return temp['final']\n",
    "    "
   ]
  },
  {
   "cell_type": "code",
   "execution_count": 51,
   "metadata": {},
   "outputs": [],
   "source": [
    "recipes['prep_time'] = fix_time(recipes.prep_time)\n",
    "recipes['cook_time'] = fix_time(recipes.cook_time)\n",
    "recipes['total_time'] = fix_time(recipes.total_time)"
   ]
  },
  {
   "cell_type": "code",
   "execution_count": 52,
   "metadata": {},
   "outputs": [
    {
     "data": {
      "text/html": [
       "<div>\n",
       "<style scoped>\n",
       "    .dataframe tbody tr th:only-of-type {\n",
       "        vertical-align: middle;\n",
       "    }\n",
       "\n",
       "    .dataframe tbody tr th {\n",
       "        vertical-align: top;\n",
       "    }\n",
       "\n",
       "    .dataframe thead th {\n",
       "        text-align: right;\n",
       "    }\n",
       "</style>\n",
       "<table border=\"1\" class=\"dataframe\">\n",
       "  <thead>\n",
       "    <tr style=\"text-align: right;\">\n",
       "      <th></th>\n",
       "      <th>id</th>\n",
       "      <th>url</th>\n",
       "      <th>title</th>\n",
       "      <th>author</th>\n",
       "      <th>description</th>\n",
       "      <th>num_photos</th>\n",
       "      <th>prep_time</th>\n",
       "      <th>cook_time</th>\n",
       "      <th>total_time</th>\n",
       "      <th>rating</th>\n",
       "      <th>reviews</th>\n",
       "      <th>made_it</th>\n",
       "      <th>servings</th>\n",
       "      <th>num_steps</th>\n",
       "      <th>num_ingredients</th>\n",
       "    </tr>\n",
       "  </thead>\n",
       "  <tbody>\n",
       "    <tr>\n",
       "      <th>0</th>\n",
       "      <td>1</td>\n",
       "      <td>https://www.allrecipes.com/recipe/222980/1970s...</td>\n",
       "      <td>1970's French Strawberry Pie Recipe</td>\n",
       "      <td>buzzsau</td>\n",
       "      <td>\"My mom used to make this for our family back ...</td>\n",
       "      <td>2</td>\n",
       "      <td>01:00:15</td>\n",
       "      <td>01:00:10</td>\n",
       "      <td>01:02:25</td>\n",
       "      <td>4.5</td>\n",
       "      <td>9</td>\n",
       "      <td>19</td>\n",
       "      <td>8</td>\n",
       "      <td>4</td>\n",
       "      <td>10</td>\n",
       "    </tr>\n",
       "  </tbody>\n",
       "</table>\n",
       "</div>"
      ],
      "text/plain": [
       "   id                                                url  \\\n",
       "0   1  https://www.allrecipes.com/recipe/222980/1970s...   \n",
       "\n",
       "                                 title   author  \\\n",
       "0  1970's French Strawberry Pie Recipe  buzzsau   \n",
       "\n",
       "                                         description num_photos prep_time  \\\n",
       "0  \"My mom used to make this for our family back ...          2  01:00:15   \n",
       "\n",
       "  cook_time total_time  rating  reviews made_it  servings  num_steps  \\\n",
       "0  01:00:10   01:02:25     4.5        9      19         8          4   \n",
       "\n",
       "   num_ingredients  \n",
       "0               10  "
      ]
     },
     "execution_count": 52,
     "metadata": {},
     "output_type": "execute_result"
    }
   ],
   "source": [
    "recipes.head(1)"
   ]
  },
  {
   "cell_type": "markdown",
   "metadata": {},
   "source": [
    "## Exploratory Data Analysis"
   ]
  },
  {
   "cell_type": "code",
   "execution_count": 53,
   "metadata": {},
   "outputs": [],
   "source": [
    "%matplotlib inline\n",
    "import seaborn as sb"
   ]
  },
  {
   "cell_type": "code",
   "execution_count": 75,
   "metadata": {},
   "outputs": [
    {
     "data": {
      "image/png": "[encoded data removed]",
      "text/plain": [
       "<Figure size 432x288 with 2 Axes>"
      ]
     },
     "metadata": {},
     "output_type": "display_data"
    }
   ],
   "source": [
    "data = recipes.groupby(by='num_ingredients').mean()['rating']\n",
    "\n",
    "ax = sb.lineplot(data=data, color=\"#34495e\", legend='full')\n",
    "_ = ax.set_title('Rating by Number of Ingredients')\n",
    "_ = ax.set_ylabel('Rating')\n",
    "_ = ax.set_xlabel('Ingredients')\n",
    "\n",
    "ax2 = ax.twinx()\n",
    "ax2 = sb.lineplot(data=recipes.groupby(by='num_ingredients').count()['rating'], hue=sb.color_palette()[2])\n",
    "_ = ax2.set_ylabel('Count Recipes')\n",
    "\n"
   ]
  },
  {
   "cell_type": "markdown",
   "metadata": {},
   "source": [
    "The mean rating is surprisingly constant  with respect to the number of ingredients"
   ]
  },
  {
   "cell_type": "code",
   "execution_count": 18,
   "metadata": {},
   "outputs": [
    {
     "data": {
      "text/plain": [
       "9.281827212616024"
      ]
     },
     "execution_count": 18,
     "metadata": {},
     "output_type": "execute_result"
    }
   ],
   "source": [
    "recipes.num_ingredients.mean()"
   ]
  },
  {
   "cell_type": "code",
   "execution_count": null,
   "metadata": {},
   "outputs": [],
   "source": [
    "ax = sb.lineplot(data=recipes.groupby(by='total_time').mean()['rating'])"
   ]
  },
  {
   "cell_type": "code",
   "execution_count": 58,
   "metadata": {},
   "outputs": [
    {
     "name": "stderr",
     "output_type": "stream",
     "text": [
      "/anaconda3/lib/python3.6/site-packages/scipy/stats/stats.py:1713: FutureWarning: Using a non-tuple sequence for multidimensional indexing is deprecated; use `arr[tuple(seq)]` instead of `arr[seq]`. In the future this will be interpreted as an array index, `arr[np.array(seq)]`, which will result either in an error or a different result.\n",
      "  return np.add.reduce(sorted[indexer] * weights, axis=axis) / sumval\n"
     ]
    },
    {
     "data": {
      "text/plain": [
       "<matplotlib.axes._subplots.AxesSubplot at 0x1294a0ba8>"
      ]
     },
     "execution_count": 58,
     "metadata": {},
     "output_type": "execute_result"
    },
    {
     "data": {
      "image/png": "[encoded data removed]",
      "text/plain": [
       "<Figure size 432x288 with 1 Axes>"
      ]
     },
     "metadata": {},
     "output_type": "display_data"
    }
   ],
   "source": [
    "sb.regplot(data=recipes.loc[recipes.num_ingredients < 15], x='num_ingredients', y='rating')"
   ]
  },
  {
   "cell_type": "code",
   "execution_count": null,
   "metadata": {},
   "outputs": [],
   "source": []
  },
  {
   "cell_type": "code",
   "execution_count": null,
   "metadata": {},
   "outputs": [],
   "source": []
  }
 ],
 "metadata": {
  "kernelspec": {
   "display_name": "Python 3",
   "language": "python",
   "name": "python3"
  },
  "language_info": {
   "codemirror_mode": {
    "name": "ipython",
    "version": 3
   },
   "file_extension": ".py",
   "mimetype": "text/x-python",
   "name": "python",
   "nbconvert_exporter": "python",
   "pygments_lexer": "ipython3",
   "version": "3.6.5"
  }
 },
 "nbformat": 4,
 "nbformat_minor": 2
}
